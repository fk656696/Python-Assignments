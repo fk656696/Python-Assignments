{
 "cells": [
  {
   "cell_type": "markdown",
   "metadata": {},
   "source": [
    "1. Write a program in Python to perform the following operation:\n",
    "If a number is divisible by 3 it should print “Consultadd” as a\n",
    "string\n",
    "If a number is divisible by 5 it should print “Python Training” as\n",
    "a string\n",
    "If a number is divisible by both 3 and 5 it should print\n",
    "“Consultadd - Python Training” as a string."
   ]
  },
  {
   "cell_type": "code",
   "execution_count": 7,
   "metadata": {},
   "outputs": [
    {
     "name": "stdout",
     "output_type": "stream",
     "text": [
      "Consultadd\n"
     ]
    }
   ],
   "source": [
    "num = int(input(\"insert any number:\"))\n",
    "# print(num)\n",
    "\n",
    "if num % 3 == 0:\n",
    "    print(\"Consultadd\")\n",
    "elif num % 5 == 0:\n",
    "    print(\"Python Training \")\n",
    "elif num % 3 == 0 and num % 5 ==0:\n",
    "    print(\"Consult -python Training\")"
   ]
  },
  {
   "cell_type": "markdown",
   "metadata": {},
   "source": [
    "2. Write a program that accepts a string as input from the user and\n",
    "calculates the number of digits and letters.\n",
    "Input: Hello123\n",
    "Output: Alphabets: 5 & Number : 3\n"
   ]
  },
  {
   "cell_type": "code",
   "execution_count": 24,
   "metadata": {},
   "outputs": [
    {
     "name": "stdout",
     "output_type": "stream",
     "text": [
      "Alphabets : 5\n",
      "Numbers : 3\n"
     ]
    }
   ],
   "source": [
    "my_Str = input(\"\")#\"Hello123\"\n",
    "y = []\n",
    "z=[]\n",
    "for x in my_Str:\n",
    "    if x.isdigit() == True:\n",
    "        y.append(x)\n",
    "    else:\n",
    "        z.append(x)\n",
    "print(f\"Alphabets : {len(z)}\")\n",
    "print(f\"Numbers : {len(y)}\")\n"
   ]
  },
  {
   "cell_type": "markdown",
   "metadata": {},
   "source": [
    "3. Write a Python program to input marks for five subjects Physics,\n",
    "Chemistry, Biology, Mathematics, and Computer. Calculate the\n",
    "percentage and grade according to the following:\n",
    "Percentage >= 90% : Grade A\n",
    "Percentage >= 80% : Grade B\n",
    "Percentage >= 70% : Grade C\n",
    "Percentage >= 60% : Grade D\n",
    "Percentage >= 40% : Grade E\n",
    "Percentage < 40% : Grade F"
   ]
  },
  {
   "cell_type": "code",
   "execution_count": 41,
   "metadata": {},
   "outputs": [
    {
     "name": "stdout",
     "output_type": "stream",
     "text": [
      "88.6\n",
      "Grade B\n"
     ]
    }
   ],
   "source": [
    "def cal_grade():\n",
    "    Physics = int(input(\"Enter Physics score: \"))\n",
    "    Chemistry = int(input(\"Enter Chemistry score: \"))\n",
    "    Biology = int(input(\"Enter Bilogy score: \"))\n",
    "    Mathematics = int(input(\"Enter Mathematics score: \"))\n",
    "    Computer = int(input(\"Enter Computer score: \"))\n",
    "\n",
    "    percentage_cal = ((Physics+Chemistry+Biology+Mathematics+Computer)/500) * 100\n",
    "    print(percentage_cal)\n",
    "    if percentage_cal >= 90:\n",
    "        print(\"Grade A\")\n",
    "    elif percentage_cal >= 80:\n",
    "        print(\"Grade B\")\n",
    "    elif percentage_cal >= 70:\n",
    "        print(\"Grade C\")\n",
    "    elif percentage_cal >= 60:\n",
    "        print(\"Grade D\")\n",
    "    elif percentage_cal >= 40:\n",
    "        print(\"Grade E\")\n",
    "    else:\n",
    "        print(\"Fail\")\n",
    "\n",
    "cal_grade()\n"
   ]
  },
  {
   "cell_type": "code",
   "execution_count": 11,
   "metadata": {},
   "outputs": [
    {
     "name": "stdout",
     "output_type": "stream",
     "text": [
      "E\n"
     ]
    }
   ],
   "source": [
    "def grade_func():\n",
    "    Subjects = {\n",
    "        \"Physics\" : int(input(\"Enter Physics score: \")),\n",
    "        \"Chemistry\" : int(input(\"Enter Chemistry score: \")),\n",
    "        \"Biology\" : int(input(\"Enter Bilogy score: \")),\n",
    "        \"Mathematics\" : int(input(\"Enter Mathematics score: \")),\n",
    "        \"Computer\" : int(input(\"Enter Computer score: \")),\n",
    "    }\n",
    "\n",
    "    #Cal percentage\n",
    "    per_cal = (sum(Subjects.values())/ (len(Subjects) *100)) * 100\n",
    "    # print(per_cal)\n",
    "\n",
    "    #grdae criteria\n",
    "    Grades = {\n",
    "        90:\"A\" ,\n",
    "        80:\"B\",\n",
    "        70:\"C\",\n",
    "        60:\"D\",\n",
    "        50:\"E\",\n",
    "    }\n",
    "\n",
    "    #cal grade\n",
    "    grade = next((y for z, y in Grades.items() if per_cal >= z), \"Fail\")\n",
    "    print(grade)\n",
    "    \n",
    "\n",
    "grade_func()"
   ]
  },
  {
   "cell_type": "markdown",
   "metadata": {},
   "source": [
    "\n",
    "4. Write a Python program to find the sum of all odd numbers\n",
    "between two given numbers.\n",
    "Start = 1, stop = 10\n",
    "Sum of odd numbers: 25\n",
    "training.consultadd.com\n",
    "LEVEL - I\n"
   ]
  },
  {
   "cell_type": "code",
   "execution_count": 23,
   "metadata": {},
   "outputs": [
    {
     "data": {
      "text/plain": [
       "16"
      ]
     },
     "execution_count": 23,
     "metadata": {},
     "output_type": "execute_result"
    }
   ],
   "source": [
    "def odd_sum():\n",
    "    x = range(int(input(\"enter a number\")),int(input(\"enter a number\")))\n",
    "    lst = []\n",
    "    for y in x:\n",
    "        if y %2 != 0:\n",
    "            lst.append(y)\n",
    "    odd_sum = sum(lst)\n",
    "    return odd_sum\n",
    "\n",
    "odd_sum()\n",
    "\n"
   ]
  },
  {
   "cell_type": "code",
   "execution_count": 32,
   "metadata": {},
   "outputs": [
    {
     "data": {
      "text/plain": [
       "16"
      ]
     },
     "execution_count": 32,
     "metadata": {},
     "output_type": "execute_result"
    }
   ],
   "source": [
    "def odd_sum1():\n",
    "    return sum(x for x in range(int(input(\"enter a number\")),int(input(\"enter a number\"))) if x %2 != 0)\n",
    "\n",
    "odd_sum1()\n",
    "        "
   ]
  },
  {
   "cell_type": "markdown",
   "metadata": {},
   "source": [
    "5. Write a Python program to find the factorial of a number using a\n",
    "for loop."
   ]
  },
  {
   "cell_type": "code",
   "execution_count": 34,
   "metadata": {},
   "outputs": [
    {
     "data": {
      "text/plain": [
       "120"
      ]
     },
     "execution_count": 34,
     "metadata": {},
     "output_type": "execute_result"
    }
   ],
   "source": [
    "def factorial(n):\n",
    "    result = 1\n",
    "    for x in range(1,n+1):\n",
    "        result *= x\n",
    "    return result\n",
    "\n",
    "factorial(5)"
   ]
  },
  {
   "cell_type": "markdown",
   "metadata": {},
   "source": [
    "6. Write a Python program to check if a given number is a perfect\n",
    "number.\n",
    "A Perfect number is a positive integer that is equal to the sum of\n",
    "its proper divisors. For instance, 6 has divisors 1, 2, and 3, and 1 + 2 +\n",
    "3 = 6, so 6 is a perfect number.\n",
    "Input: 5\n",
    "Output: No"
   ]
  },
  {
   "cell_type": "code",
   "execution_count": 62,
   "metadata": {},
   "outputs": [
    {
     "name": "stdout",
     "output_type": "stream",
     "text": [
      "total is 1\n",
      "total is 3\n",
      "total is 6\n",
      "total is 12\n"
     ]
    }
   ],
   "source": [
    "n = 6\n",
    "tot = 0\n",
    "for i in range(1, n+1):\n",
    "    if n % i == 0:\n",
    "        # print(f\"i is {i}\")\n",
    "        tot = tot + i\n",
    "        print(f\"total is {tot}\")\n"
   ]
  },
  {
   "cell_type": "markdown",
   "metadata": {},
   "source": [
    "7. Write a Python program to check if a string is an anagram of\n",
    "another string.\n",
    "string1 = \"listen\"\n",
    ", string2 = \"silent\"\n",
    "Output: True"
   ]
  },
  {
   "cell_type": "code",
   "execution_count": null,
   "metadata": {},
   "outputs": [],
   "source": [
    "word = \"listen\"\n",
    "word1 = \"silent\"\n",
    "if sorted(word) == sorted(word1):\n",
    "    print(\"Anagram\")"
   ]
  },
  {
   "cell_type": "markdown",
   "metadata": {},
   "source": [
    "\n",
    "8. Write a Python program to calculate the LCM (Least Common\n",
    "Multiple) of two numbers.\n",
    "number1 = 12, number2 = 18\n",
    "LCM of 12 and 18 are: 36"
   ]
  },
  {
   "cell_type": "code",
   "execution_count": 67,
   "metadata": {},
   "outputs": [
    {
     "name": "stdout",
     "output_type": "stream",
     "text": [
      "36\n"
     ]
    }
   ],
   "source": [
    "import math\n",
    "num1 = 12\n",
    "num2 = 18\n",
    "num3 = abs(num1 * num2) // math.gcd(num1, num2)\n",
    "print(num3)"
   ]
  },
  {
   "cell_type": "markdown",
   "metadata": {},
   "source": [
    "9. Write a Python program to count the frequency of each element\n",
    "in a list.\n",
    "Input_list = [1, 2, 3, 2, 4, 1, 2, 4, 5]\n",
    "Frequency count: {1: 2, 2: 3, 3: 1, 4: 2, 5: 1}\n",
    "training.consultadd.com\n",
    "LEVEL - I"
   ]
  },
  {
   "cell_type": "code",
   "execution_count": 71,
   "metadata": {},
   "outputs": [
    {
     "name": "stdout",
     "output_type": "stream",
     "text": [
      "Counter({2: 3, 1: 2, 4: 2, 3: 1, 5: 1})\n"
     ]
    }
   ],
   "source": [
    "import collections\n",
    "Input_list = [1, 2, 3, 2, 4, 1, 2, 4, 5]\n",
    "\n",
    "print(collections.Counter(Input_list))"
   ]
  },
  {
   "cell_type": "markdown",
   "metadata": {},
   "source": [
    "10. Write a Python program to reverse the order of words in a given\n",
    "sentence.\n",
    "programming.\n",
    "”\n",
    "World! Hello,\n",
    "”\n",
    "Input_sentence = “Hello, World! Welcome to Python\n",
    "Output after reverse = “programming. Python to Welcome"
   ]
  },
  {
   "cell_type": "code",
   "execution_count": 76,
   "metadata": {},
   "outputs": [
    {
     "name": "stdout",
     "output_type": "stream",
     "text": [
      "Output after reverse: programming. Python to Welcome World! Hello,\n"
     ]
    }
   ],
   "source": [
    "def reverse_sentence(sentence):\n",
    "    return \" \".join(sentence.split()[::-1])\n",
    "\n",
    "word1 = \"Hello, World! Welcome to Python programming.\"\n",
    "word2 = reverse_sentence(word1)\n",
    "print(\"Output after reverse:\", word2)"
   ]
  },
  {
   "cell_type": "markdown",
   "metadata": {},
   "source": [
    "11. Write a Python program to calculate the sum of digits of a given\n",
    "number until the sum becomes a single-digit number.\n",
    "Sample Input: num = 987\n",
    "Sample Output: Sum_of_digits = 24,\n",
    "Again compute the sum of digits so that it can be reduced to\n",
    "on single digit.\n",
    "Final Output: 6"
   ]
  },
  {
   "cell_type": "code",
   "execution_count": 77,
   "metadata": {},
   "outputs": [
    {
     "name": "stdout",
     "output_type": "stream",
     "text": [
      "Final Output: 6\n"
     ]
    }
   ],
   "source": [
    "def sum_of_digits(num):\n",
    "    while num >= 10: \n",
    "        num = sum(int(digit) for digit in str(num))\n",
    "    return num\n",
    "\n",
    "\n",
    "num = 987\n",
    "print(\"Final Output:\", sum_of_digits(num))"
   ]
  },
  {
   "cell_type": "markdown",
   "metadata": {},
   "source": [
    "12. Write a Python program to reverse a number using a while\n",
    "loop.\n",
    "Sample Input: num = 12345\n",
    "Sample Output: revnum = 54321"
   ]
  },
  {
   "cell_type": "code",
   "execution_count": 79,
   "metadata": {},
   "outputs": [
    {
     "name": "stdout",
     "output_type": "stream",
     "text": [
      "Reversed Number: 54321\n"
     ]
    }
   ],
   "source": [
    "def reverse_number(num):\n",
    "    revnum = 0\n",
    "    while num > 0:\n",
    "        revnum = (revnum * 10) + (num % 10)  \n",
    "        num //= 10  \n",
    "    return revnum\n",
    "\n",
    "\n",
    "num = 12345\n",
    "print(\"Reversed Number:\", reverse_number(num))"
   ]
  },
  {
   "cell_type": "markdown",
   "metadata": {},
   "source": [
    "LEVEL - II\n",
    "1. Write a Python program to find the common elements between\n",
    "two lists.\n",
    "Sample Input: l1 = [1, 2, 3, 4, 5] and l2 = [4, 5, 6, 7, 8]\n",
    "Sample output: [4, 5]"
   ]
  },
  {
   "cell_type": "code",
   "execution_count": 1,
   "metadata": {},
   "outputs": [
    {
     "name": "stdout",
     "output_type": "stream",
     "text": [
      "[4, 5]\n"
     ]
    }
   ],
   "source": [
    "def find_common(list1, list2):\n",
    "    return list(set(list1) & set(list2))\n",
    "\n",
    "\n",
    "list1 = [1, 2, 3, 4, 5]\n",
    "list2 = [4, 5, 6, 7, 8]\n",
    "\n",
    "\n",
    "print(find_common(list1, list2))  "
   ]
  },
  {
   "cell_type": "markdown",
   "metadata": {},
   "source": [
    "2. Create a function that takes a list and returns a new list with\n",
    "unique elements of the first list.\n",
    "Sample Input: list1 = [1, 2, 2, 3, 4, 4, 5, 5]\n",
    "Sample Output: list2 = [1, 2, 3, 4, 5]"
   ]
  },
  {
   "cell_type": "code",
   "execution_count": 2,
   "metadata": {},
   "outputs": [
    {
     "name": "stdout",
     "output_type": "stream",
     "text": [
      "[1, 2, 3, 4, 5]\n"
     ]
    }
   ],
   "source": [
    "def get_unique_elements(lst):\n",
    "    return list(set(lst))  \n",
    "\n",
    "\n",
    "list1 = [1, 2, 2, 3, 4, 4, 5, 5]\n",
    "\n",
    "print(get_unique_elements(list1)) "
   ]
  },
  {
   "cell_type": "markdown",
   "metadata": {},
   "source": [
    "3. Given an array of N integers and an integer K, find the number of\n",
    "pairs of elements in the array whose sum is equal to K.\n",
    "Sample Input: arr = [1, 2, 3, 4, 5], k = 6\n",
    "Sample Output: Pair count: 2"
   ]
  },
  {
   "cell_type": "code",
   "execution_count": 3,
   "metadata": {},
   "outputs": [
    {
     "name": "stdout",
     "output_type": "stream",
     "text": [
      "Pair count: 2\n"
     ]
    }
   ],
   "source": [
    "def count_pairs(arr, k):\n",
    "    freq = {} \n",
    "    count = 0  \n",
    "\n",
    "    for num in arr:\n",
    "        complement = k - num \n",
    "        if complement in freq:  \n",
    "            count += freq[complement]  \n",
    "        \n",
    "       \n",
    "        freq[num] = freq.get(num, 0) + 1  \n",
    "    \n",
    "    return count\n",
    "\n",
    "arr = [1, 2, 3, 4, 5]\n",
    "k = 6\n",
    "\n",
    "print(\"Pair count:\", count_pairs(arr, k))"
   ]
  },
  {
   "cell_type": "markdown",
   "metadata": {},
   "source": [
    "4. Given an array of size N. The task is to rotate array by D elements\n",
    "towards right\n",
    "Sample Input: arr = [1, 2, 3, 4, 5], D = 2\n",
    "Sample Output: arr after rotation = [4, 5, 1, 2, 3]\n",
    "training.consultadd.com"
   ]
  },
  {
   "cell_type": "code",
   "execution_count": 4,
   "metadata": {},
   "outputs": [
    {
     "name": "stdout",
     "output_type": "stream",
     "text": [
      "Array after rotation: [4, 5, 1, 2, 3]\n"
     ]
    }
   ],
   "source": [
    "def rotate_right(arr, d):\n",
    "    d = d % len(arr) \n",
    "    return arr[-d:] + arr[:-d] \n",
    "\n",
    "arr = [1, 2, 3, 4, 5]\n",
    "D = 2\n",
    "\n",
    "print(\"Array after rotation:\", rotate_right(arr, D))  "
   ]
  },
  {
   "cell_type": "markdown",
   "metadata": {},
   "source": [
    "5. You are developing a program that analyzes weather data. Write\n",
    "a Python function that takes a list of temperature readings for a\n",
    "specific location and determines the average temperature, highest\n",
    "temperature, and lowest temperature.\n",
    "Input: temperature_readings = [25, 28, 21, 24, 27]\n",
    "Output:\n",
    "Average Temperature: 25.0\n",
    "Highest Temperature: 28\n",
    "Lowest Temperature: 21"
   ]
  },
  {
   "cell_type": "code",
   "execution_count": 5,
   "metadata": {},
   "outputs": [
    {
     "name": "stdout",
     "output_type": "stream",
     "text": [
      "Average Temperature: 25.0\n",
      "Highest Temperature: 28\n",
      "Lowest Temperature: 21\n"
     ]
    }
   ],
   "source": [
    "def analyze_weather(temperature_readings):\n",
    "    avg_temp = sum(temperature_readings) / len(temperature_readings)  \n",
    "    highest_temp = max(temperature_readings)  \n",
    "    lowest_temp = min(temperature_readings) \n",
    "\n",
    "    print(f\"Average Temperature: {avg_temp:.1f}\")  \n",
    "    print(f\"Highest Temperature: {highest_temp}\")\n",
    "    print(f\"Lowest Temperature: {lowest_temp}\")\n",
    "\n",
    "temperature_readings = [25, 28, 21, 24, 27]\n",
    "analyze_weather(temperature_readings)"
   ]
  },
  {
   "cell_type": "markdown",
   "metadata": {},
   "source": [
    "6. Write a Python program to check if a number is a power of two\n",
    "using recursion."
   ]
  },
  {
   "cell_type": "code",
   "execution_count": 6,
   "metadata": {},
   "outputs": [
    {
     "name": "stdout",
     "output_type": "stream",
     "text": [
      "True\n",
      "True\n",
      "False\n",
      "True\n",
      "False\n"
     ]
    }
   ],
   "source": [
    "def is_power_of_two(n):\n",
    "    if n <= 0:\n",
    "        return False\n",
    "    if n == 1:\n",
    "        return True\n",
    "\n",
    "    if n % 2 == 0:\n",
    "        return is_power_of_two(n // 2)\n",
    "    \n",
    "    return False \n",
    "\n",
    "print(is_power_of_two(8))  \n",
    "print(is_power_of_two(16))  \n",
    "print(is_power_of_two(10))  \n",
    "print(is_power_of_two(1))   \n",
    "print(is_power_of_two(0))   "
   ]
  },
  {
   "cell_type": "markdown",
   "metadata": {},
   "source": [
    "7. Write a Python function that finds the median of a list of\n",
    "numbers.\n",
    "Sample Input: number_list = [7, 2, 5, 1, 9, 3]\n",
    "Sample Output: Median: 4.0"
   ]
  },
  {
   "cell_type": "code",
   "execution_count": 7,
   "metadata": {},
   "outputs": [
    {
     "name": "stdout",
     "output_type": "stream",
     "text": [
      "Median: 4.0\n"
     ]
    }
   ],
   "source": [
    "def find_median(number_list):\n",
    "    number_list.sort() \n",
    "    n = len(number_list)\n",
    "    mid = n // 2\n",
    "\n",
    "    if n % 2 == 0:  \n",
    "        median = (number_list[mid - 1] + number_list[mid]) / 2\n",
    "    else: \n",
    "        median = number_list[mid]\n",
    "    return median\n",
    "\n",
    "number_list = [7, 2, 5, 1, 9, 3]\n",
    "\n",
    "print(\"Median:\", find_median(number_list)) "
   ]
  },
  {
   "cell_type": "markdown",
   "metadata": {},
   "source": [
    "8. Write a Python function that counts the number of vowels in a\n",
    "given string.\n",
    "Sample Input: string = \"Hello, World!\"\n",
    "Sample Output: Number of vowels: 3"
   ]
  },
  {
   "cell_type": "code",
   "execution_count": 8,
   "metadata": {},
   "outputs": [
    {
     "name": "stdout",
     "output_type": "stream",
     "text": [
      "Number of vowels: 3\n"
     ]
    }
   ],
   "source": [
    "def count_vowels(string):\n",
    "    vowels = \"aeiouAEIOU\"  \n",
    "    count = sum(1 for char in string if char in vowels)  \n",
    "    return count\n",
    "\n",
    "string = \"Hello, World!\"\n",
    "\n",
    "print(\"Number of vowels:\", count_vowels(string)) "
   ]
  },
  {
   "cell_type": "markdown",
   "metadata": {},
   "source": [
    "9. Write a Python program that executes an operation on a list and\n",
    "handles an IndexError exception if the index is out of range.\n"
   ]
  },
  {
   "cell_type": "code",
   "execution_count": 9,
   "metadata": {},
   "outputs": [
    {
     "name": "stdout",
     "output_type": "stream",
     "text": [
      "Error: Index out of range!\n"
     ]
    }
   ],
   "source": [
    "def get_element(lst, index):\n",
    "    try:\n",
    "        return lst[index] \n",
    "    except IndexError:\n",
    "        return \"Error: Index out of range!\"  \n",
    "\n",
    "my_list = [10, 20, 30, 40, 50]\n",
    "index = 6  \n",
    "\n",
    "print(get_element(my_list, index)) "
   ]
  },
  {
   "cell_type": "markdown",
   "metadata": {},
   "source": [
    "10. We are making n stone piles! The first pile has n stones. If n is\n",
    "even, then all piles have an even number of stones. If n is odd, all\n",
    "piles have an odd number of stones. Each pile must have more\n",
    "stones than the previous pile but as few as possible. Write a\n",
    "Python program to find the number of stones in each pile.\n",
    "Sample Input: n = 7\n",
    "Sample Output: Stones in a single pile = [2, 4, 6]"
   ]
  },
  {
   "cell_type": "code",
   "execution_count": 11,
   "metadata": {},
   "outputs": [
    {
     "name": "stdout",
     "output_type": "stream",
     "text": [
      "Stones in a single pile = [1, 3, 5]\n"
     ]
    }
   ],
   "source": [
    "def find_stones_in_piles(n):\n",
    "    if n % 2 == 0:\n",
    "        stones = [i * 2 for i in range(1, n//2 + 1)]\n",
    "    else:\n",
    "        stones = [i * 2 - 1 for i in range(1, n//2 + 1)]\n",
    "\n",
    "    return stones\n",
    "\n",
    "n = 7\n",
    "print(f\"Stones in a single pile = {find_stones_in_piles(n)}\")"
   ]
  },
  {
   "cell_type": "markdown",
   "metadata": {},
   "source": [
    "11. Write a Python program to create a list of given strings\n",
    "individually of the list using the Python map function.\n",
    "Eg. Input:\n",
    "['Red'\n",
    ",\n",
    "'Blue'\n",
    ",\n",
    "'Black'\n",
    ",\n",
    "'White'\n",
    ",\n",
    "'Pink']\n",
    "Output:\n",
    "[['R'\n",
    ",\n",
    "'e'\n",
    ",\n",
    "'d'], ['B'\n",
    ",\n",
    "'l'\n",
    ",\n",
    "'u'\n",
    ",\n",
    "'e'], ['B'\n",
    ",\n",
    "'l'\n",
    ",\n",
    "'a'\n",
    ",\n",
    "'c'\n",
    ",\n",
    "'k'], ['W'\n",
    ",\n",
    "'h'\n",
    ",\n",
    "'i'\n",
    ",\n",
    "'t'\n",
    ",\n",
    "'e'], ['P'\n",
    ",\n",
    "'i'\n",
    ",\n",
    "'n'\n",
    ",\n",
    "'k']]"
   ]
  },
  {
   "cell_type": "code",
   "execution_count": 13,
   "metadata": {},
   "outputs": [
    {
     "name": "stdout",
     "output_type": "stream",
     "text": [
      "[['R', 'e', 'd'], ['B', 'l', 'u', 'e'], ['B', 'l', 'a', 'c', 'k'], ['W', 'h', 'i', 't', 'e'], ['P', 'i', 'n', 'k']]\n"
     ]
    }
   ],
   "source": [
    "def create_list_of_characters(strings):\n",
    "    return list(map(list, strings))\n",
    "\n",
    "input_list = ['Red', 'Blue', 'Black', 'White', 'Pink']\n",
    "output_list = create_list_of_characters(input_list)\n",
    "\n",
    "print(output_list)"
   ]
  },
  {
   "cell_type": "markdown",
   "metadata": {},
   "source": [
    "12. Create a login page backend to ask users to enter the username\n",
    "and password. Make sure to ask for a Re-Type Password and if the\n",
    "password is incorrect give a chance to enter it again but it should\n",
    "not be more than 3 times."
   ]
  },
  {
   "cell_type": "code",
   "execution_count": 15,
   "metadata": {},
   "outputs": [
    {
     "name": "stdout",
     "output_type": "stream",
     "text": [
      "Login successful!\n"
     ]
    }
   ],
   "source": [
    "def login():\n",
    "    correct_username = \"user123\"\n",
    "    correct_password = \"password123\"\n",
    "    \n",
    "    username = input(\"Enter your username: \")\n",
    "\n",
    "    if username != correct_username:\n",
    "        print(\"Invalid username.\")\n",
    "        return\n",
    "\n",
    "    attempt_count = 0\n",
    "    while attempt_count < 3:\n",
    "        password = input(\"Enter your password: \")\n",
    "        retype_password = input(\"Re-type your password: \")\n",
    "        \n",
    "        if password == retype_password and password == correct_password:\n",
    "            print(\"Login successful!\")\n",
    "            return\n",
    "        else:\n",
    "            attempt_count += 1\n",
    "            print(f\"Incorrect password. You have {3 - attempt_count} attempts left.\")\n",
    "    \n",
    "    print(\"Too many incorrect attempts. Access denied.\")\n",
    "\n",
    "login()"
   ]
  },
  {
   "cell_type": "markdown",
   "metadata": {},
   "source": [
    "\n",
    "13. Write a Python program to find if a given string starts with a\n",
    "given character using Lambda.\n",
    "Sample input: input_string = \"Hello, World!\"\n",
    ", given_char = \"H\"\n",
    "Sample Output: True"
   ]
  },
  {
   "cell_type": "code",
   "execution_count": 16,
   "metadata": {},
   "outputs": [
    {
     "name": "stdout",
     "output_type": "stream",
     "text": [
      "True\n"
     ]
    }
   ],
   "source": [
    "is_starting_with_char = lambda input_string, given_char: input_string.startswith(given_char)\n",
    "\n",
    "input_string = \"Hello, World!\"\n",
    "given_char = \"H\"\n",
    "\n",
    "result = is_starting_with_char(input_string, given_char)\n",
    "print(result)  "
   ]
  },
  {
   "cell_type": "markdown",
   "metadata": {},
   "source": [
    "LEVEL - III\n",
    "1. Read the doc.txt file using Python File handling concept and\n",
    "return only the even length string from the file. Consider the\n",
    "content of doc.txt as given below:\n",
    "Hello I am a file\n",
    "Where you need to return the data string which is of even length.\n",
    "Make sure you return the content in The same link as it is present."
   ]
  },
  {
   "cell_type": "code",
   "execution_count": 17,
   "metadata": {},
   "outputs": [
    {
     "name": "stdout",
     "output_type": "stream",
     "text": [
      "The file doc.txt was not found.\n"
     ]
    }
   ],
   "source": [
    "def read_file_and_filter_even_length():\n",
    "    try:\n",
    "        with open(\"doc.txt\", \"r\") as file:\n",
    "            content = file.read()\n",
    "        \n",
    "        words = content.split()\n",
    "        \n",
    "        even_length_words = [word for word in words if len(word) % 2 == 0]\n",
    "        \n",
    "        result = ' '.join(even_length_words)\n",
    "        \n",
    "        return result\n",
    "\n",
    "    except FileNotFoundError:\n",
    "        return \"The file doc.txt was not found.\"\n",
    "\n",
    "filtered_content = read_file_and_filter_even_length()\n",
    "print(filtered_content)"
   ]
  },
  {
   "cell_type": "markdown",
   "metadata": {},
   "source": [
    "2. Write a program to count the lines in a file “demo.txt”\n"
   ]
  },
  {
   "cell_type": "code",
   "execution_count": null,
   "metadata": {},
   "outputs": [],
   "source": [
    "def count_lines_in_file():\n",
    "    try:\n",
    "        with open(\"demo.txt\", \"r\") as file:\n",
    "            lines = file.readlines()\n",
    "        \n",
    "        return len(lines)\n",
    "    \n",
    "    except FileNotFoundError:\n",
    "        return \"The file demo.txt was not found.\"\n",
    "\n",
    "line_count = count_lines_in_file()\n",
    "print(f\"Number of lines in the file: {line_count}\")"
   ]
  },
  {
   "cell_type": "markdown",
   "metadata": {},
   "source": [
    "3. Aditi has used text editing software to type some text. After\n",
    "saving the article as words.txt, she realized that she had wrongly\n",
    "typed the alphabet “J\" instead of “I\" everywhere in the article.\n",
    "Write a function definition for JtoI() in Python that would display\n",
    "the corrected version of the entire content of the file WORDS.TXT\n",
    "with all the alphabet \"J\" to be displayed as an alphabet \"I\" on the\n",
    "screen.\n",
    "Note: Assume that words.txt does not contain any J alphabet\n",
    "otherwise."
   ]
  },
  {
   "cell_type": "code",
   "execution_count": null,
   "metadata": {},
   "outputs": [],
   "source": [
    "def JtoI():\n",
    "    try:\n",
    "        with open(\"WORDS.TXT\", \"r\") as file:\n",
    "            content = file.read()\n",
    "        \n",
    "        corrected_content = content.replace(\"J\", \"I\")\n",
    "        \n",
    "        print(corrected_content)\n",
    "    \n",
    "    except FileNotFoundError:\n",
    "        print(\"The file WORDS.TXT was not found.\")\n",
    "\n",
    "JtoI()"
   ]
  },
  {
   "cell_type": "markdown",
   "metadata": {},
   "source": [
    "4. Define a class named Shape and its subclass Square. The Square\n",
    "class has an init function which takes length as argument. Both\n",
    "classes have an area function which can print the area of the\n",
    "shape where Shape’s area is 0 by default."
   ]
  },
  {
   "cell_type": "code",
   "execution_count": 18,
   "metadata": {},
   "outputs": [
    {
     "name": "stdout",
     "output_type": "stream",
     "text": [
      "Area of Shape: 0\n",
      "Area of Square: 25\n"
     ]
    }
   ],
   "source": [
    "class Shape:\n",
    "    def area(self):\n",
    "        return 0 \n",
    "\n",
    "class Square(Shape):\n",
    "    def __init__(self, length):\n",
    "        self.length = length  \n",
    "\n",
    "    def area(self):\n",
    "        return self.length * self.length  \n",
    "\n",
    "shape = Shape()\n",
    "print(\"Area of Shape:\", shape.area()) \n",
    "\n",
    "square = Square(5)\n",
    "print(\"Area of Square:\", square.area())  "
   ]
  },
  {
   "cell_type": "markdown",
   "metadata": {},
   "source": [
    "5. Create a class 'Time' and initialize it with hours and minutes.\n",
    "Create a method addTime() which should take two Time objects\n",
    "and add them.\n",
    "E.g.\n",
    "- (2 hour and 50 min)+(1 hr and 20 min) is (4 hr and 10 min)\n",
    "Create another method displayTime() which should print the time.\n",
    "Also, create a method displayMinute() which should display the\n",
    "total minutes in the Time.\n",
    "E.g.\n",
    "- (1 hr 2 min) should display 62 minutes."
   ]
  },
  {
   "cell_type": "code",
   "execution_count": 19,
   "metadata": {},
   "outputs": [
    {
     "name": "stdout",
     "output_type": "stream",
     "text": [
      "Added Time:\n",
      "4 hr and 10 min\n",
      "\n",
      "Total Minutes:\n",
      "Total minutes: 170\n",
      "Total minutes: 80\n"
     ]
    }
   ],
   "source": [
    "class Time:\n",
    "    def __init__(self, hours, minutes):\n",
    "        self.hours = hours\n",
    "        self.minutes = minutes\n",
    "\n",
    "    def addTime(self, other):\n",
    "        total_minutes = self.minutes + other.minutes\n",
    "        total_hours = self.hours + other.hours + (total_minutes // 60)\n",
    "        total_minutes = total_minutes % 60 \n",
    "        \n",
    "        return Time(total_hours, total_minutes)\n",
    "\n",
    "    def displayTime(self):\n",
    "        print(f\"{self.hours} hr and {self.minutes} min\")\n",
    "\n",
    "    def displayMinute(self):\n",
    "        total_minutes = (self.hours * 60) + self.minutes\n",
    "        print(f\"Total minutes: {total_minutes}\")\n",
    "\n",
    "time1 = Time(2, 50)\n",
    "time2 = Time(1, 20)\n",
    "\n",
    "added_time = time1.addTime(time2)\n",
    "\n",
    "print(\"Added Time:\")\n",
    "added_time.displayTime()  \n",
    "\n",
    "print(\"\\nTotal Minutes:\")\n",
    "time1.displayMinute()  \n",
    "time2.displayMinute()"
   ]
  },
  {
   "cell_type": "markdown",
   "metadata": {},
   "source": [
    "6. Create the custom Python classes which have methods and\n",
    "attributes and implement single inheritance, multiple inheritance,\n",
    "and multilevel inheritance"
   ]
  },
  {
   "cell_type": "code",
   "execution_count": 20,
   "metadata": {},
   "outputs": [
    {
     "name": "stdout",
     "output_type": "stream",
     "text": [
      "Brand: Toyota\n",
      "Model: Camry\n"
     ]
    }
   ],
   "source": [
    "class Vehicle:\n",
    "    def __init__(self, brand):\n",
    "        self.brand = brand\n",
    "    \n",
    "    def show_brand(self):\n",
    "        print(f\"Brand: {self.brand}\")\n",
    "\n",
    "class Car(Vehicle):\n",
    "    def __init__(self, brand, model):\n",
    "        super().__init__(brand) \n",
    "        self.model = model\n",
    "    \n",
    "    def show_model(self):\n",
    "        print(f\"Model: {self.model}\")\n",
    "\n",
    "car = Car(\"Toyota\", \"Camry\")\n",
    "car.show_brand()  \n",
    "car.show_model()  "
   ]
  },
  {
   "cell_type": "markdown",
   "metadata": {},
   "source": [
    "7. Write a program to construct a dictionary from the two lists\n",
    "containing the names of students and their corresponding\n",
    "subjects. The dictionary should map the students with their\n",
    "respective subjects. Let’s see how to do this using for loops and\n",
    "dictionary comprehension.\n",
    "Input: [Sam, Alice, Mona] ,\n",
    "[Commerce, Science, Computer]\n",
    "Output: [Sam: Commerce, Alice: Science , Mona: Computer]"
   ]
  },
  {
   "cell_type": "code",
   "execution_count": 21,
   "metadata": {},
   "outputs": [
    {
     "name": "stdout",
     "output_type": "stream",
     "text": [
      "{'Sam': 'Commerce', 'Alice': 'Science', 'Mona': 'Computer'}\n"
     ]
    }
   ],
   "source": [
    "students = [\"Sam\", \"Alice\", \"Mona\"]\n",
    "subjects = [\"Commerce\", \"Science\", \"Computer\"]\n",
    "\n",
    "student_subject_dict = {}\n",
    "for i in range(len(students)):\n",
    "    student_subject_dict[students[i]] = subjects[i]\n",
    "\n",
    "print(student_subject_dict)"
   ]
  },
  {
   "cell_type": "markdown",
   "metadata": {},
   "source": [
    "\n",
    "8. You need to write a function that accepts an encoded string as a\n",
    "parameter.\n",
    "This string will contain a first name, last name, and an id.\n",
    "Values in the string can be separated by any number of zeros. The\n",
    "id is a numeric value but will contain no zeros. The function should\n",
    "parse the string and return a Python dictionary that contains the\n",
    "first name, last name, and id values.\n",
    "For example:\n",
    "Input : “Robert000Smith000123”\n",
    "Output:\n",
    "{ “first_name”: “Robert”\n",
    ",\n",
    "“last_name”: “Smith”\n",
    ",\n",
    "“id”: “123” }"
   ]
  },
  {
   "cell_type": "code",
   "execution_count": 22,
   "metadata": {},
   "outputs": [
    {
     "name": "stdout",
     "output_type": "stream",
     "text": [
      "{'first_name': 'Robert', 'last_name': 'Smith', 'id': '123'}\n"
     ]
    }
   ],
   "source": [
    "def parse_encoded_string(encoded_str):\n",
    "    parts = list(filter(None, encoded_str.split(\"0\")))\n",
    "    \n",
    "    return {\n",
    "        \"first_name\": parts[0],\n",
    "        \"last_name\": parts[1],\n",
    "        \"id\": parts[2]\n",
    "    }\n",
    "\n",
    "encoded_str = \"Robert000Smith000123\"\n",
    "result = parse_encoded_string(encoded_str)\n",
    "print(result)"
   ]
  },
  {
   "cell_type": "markdown",
   "metadata": {},
   "source": [
    "9. Given an input string, write a function that returns the run\n",
    "length encoded string for the input string.\n",
    "For Example:\n",
    "Input: wwwwaaadebbbbbw\n",
    "Output: w4a3d1e1b5w1"
   ]
  },
  {
   "cell_type": "code",
   "execution_count": 23,
   "metadata": {},
   "outputs": [
    {
     "name": "stdout",
     "output_type": "stream",
     "text": [
      "w4a3d1e1b5w1\n"
     ]
    }
   ],
   "source": [
    "def run_length_encoding(s):\n",
    "    if not s: \n",
    "        return \"\"\n",
    "    \n",
    "    encoded_str = \"\"\n",
    "    count = 1 \n",
    "    \n",
    "    for i in range(1, len(s)):\n",
    "        if s[i] == s[i - 1]:  \n",
    "            count += 1\n",
    "        else:\n",
    "            encoded_str += s[i - 1] + str(count)  \n",
    "            count = 1  \n",
    "    \n",
    "    encoded_str += s[-1] + str(count)\n",
    "    \n",
    "    return encoded_str\n",
    "\n",
    "input_string = \"wwwwaaadebbbbbw\"\n",
    "output = run_length_encoding(input_string)\n",
    "print(output)"
   ]
  },
  {
   "cell_type": "markdown",
   "metadata": {},
   "source": [
    "\n",
    "\n",
    "10. A cafe has N computers. Several customers come to the cafe to\n",
    "use these computers. A customer will be serviced only if there is\n",
    "any unoccupied computer at the moment the customer visits the\n",
    "cafe. If there is no unoccupied computer, the customer leaves the\n",
    "cafe.\n",
    "training.consultadd.com\n",
    "LEVEL - II\n",
    "You are given an integer N representing the number of computers\n",
    "in the cafe and a sequence of uppercase letters S. Every letter in S\n",
    "occurs exactly two times. The first occurrence denotes the arrival\n",
    "of a customer and the second occurrence denotes the departure\n",
    "of the same customer if he gets allocated the computer.\n",
    "You have to find the number of customers that walked away\n",
    "without using a computer.\n",
    "Example 1:\n",
    "Input:\n",
    "N = 3\n",
    "S = GACCBDDBAGEE\n",
    "Output: 1\n",
    "answer is 1.\n",
    "Explanation: Only D will not be able to get any computer. So the\n",
    "Example 2:\n",
    "Input:\n",
    "N = 1\n",
    "S = ABCBAC\n",
    "Output: 2\n",
    "answer is 2.\n",
    "Explanation: B "
   ]
  },
  {
   "cell_type": "code",
   "execution_count": 25,
   "metadata": {},
   "outputs": [
    {
     "name": "stdout",
     "output_type": "stream",
     "text": [
      "1\n",
      "2\n"
     ]
    }
   ],
   "source": [
    "def customers_who_walked_away(N, S):\n",
    "    occupied_computers = set() \n",
    "    visited_customers = set() \n",
    "    walk_away_count = 0\n",
    "\n",
    "    for customer in S:\n",
    "        if customer in occupied_computers:\n",
    "            occupied_computers.remove(customer)\n",
    "        else:\n",
    "            if len(occupied_computers) < N:\n",
    "                occupied_computers.add(customer) \n",
    "            else:\n",
    "                if customer not in visited_customers:\n",
    "                    walk_away_count += 1  \n",
    "            visited_customers.add(customer)  \n",
    "\n",
    "    return walk_away_count\n",
    "\n",
    "print(customers_who_walked_away(3, \"GACCBDDBAGEE\")) \n",
    "print(customers_who_walked_away(1, \"ABCBAC\"))      "
   ]
  }
 ],
 "metadata": {
  "interpreter": {
   "hash": "31f2aee4e71d21fbe5cf8b01ff0e069b9275f58929596ceb00d14d90e3e16cd6"
  },
  "kernelspec": {
   "display_name": "Python 3.9.6 64-bit",
   "language": "python",
   "name": "python3"
  },
  "language_info": {
   "codemirror_mode": {
    "name": "ipython",
    "version": 3
   },
   "file_extension": ".py",
   "mimetype": "text/x-python",
   "name": "python",
   "nbconvert_exporter": "python",
   "pygments_lexer": "ipython3",
   "version": "3.9.6"
  },
  "orig_nbformat": 4
 },
 "nbformat": 4,
 "nbformat_minor": 2
}
