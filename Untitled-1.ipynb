{
 "cells": [
  {
   "cell_type": "code",
   "execution_count": 1,
   "metadata": {},
   "outputs": [
    {
     "name": "stdout",
     "output_type": "stream",
     "text": [
      "hi dude\n"
     ]
    }
   ],
   "source": [
    "print(\"hi dude\")"
   ]
  },
  {
   "cell_type": "markdown",
   "metadata": {},
   "source": [
    "#1.Write a program in Python to perform the following operation:\n",
    "If a number is divisible by 3 it should print “Consultadd” as a\n",
    "string\n",
    "If a number is divisible by 5 it should print “Python Training” as\n",
    "a string\n",
    "If a number is divisible by both 3 and 5 it should print\n",
    "“Consultadd - Python Training” as a string."
   ]
  },
  {
   "cell_type": "code",
   "execution_count": 7,
   "metadata": {},
   "outputs": [
    {
     "name": "stdout",
     "output_type": "stream",
     "text": [
      "Consultadd\n"
     ]
    }
   ],
   "source": [
    "num = int(input(\"insert any number:\"))\n",
    "# print(num)\n",
    "\n",
    "if num % 3 == 0:\n",
    "    print(\"Consultadd\")\n",
    "elif num % 5 == 0:\n",
    "    print(\"Python Training \")\n",
    "elif num % 3 == 0 and num % 5 ==0:\n",
    "    print(\"Consult -python Training\")"
   ]
  },
  {
   "cell_type": "code",
   "execution_count": null,
   "metadata": {},
   "outputs": [],
   "source": [
    "#Better way of doing it"
   ]
  },
  {
   "cell_type": "markdown",
   "metadata": {},
   "source": [
    "2. Write a program that accepts a string as input from the user and\n",
    "calculates the number of digits and letters.\n",
    "Input: Hello123\n",
    "Output: Alphabets: 5 & Number : 3\n"
   ]
  },
  {
   "cell_type": "code",
   "execution_count": 24,
   "metadata": {},
   "outputs": [
    {
     "name": "stdout",
     "output_type": "stream",
     "text": [
      "Alphabets : 5\n",
      "Numbers : 3\n"
     ]
    }
   ],
   "source": [
    "my_Str = input(\"\")#\"Hello123\"\n",
    "y = []\n",
    "z=[]\n",
    "for x in my_Str:\n",
    "    if x.isdigit() == True:\n",
    "        y.append(x)\n",
    "    else:\n",
    "        z.append(x)\n",
    "print(f\"Alphabets : {len(z)}\")\n",
    "print(f\"Numbers : {len(y)}\")\n"
   ]
  },
  {
   "cell_type": "markdown",
   "metadata": {},
   "source": [
    "3. Write a Python program to input marks for five subjects Physics,\n",
    "Chemistry, Biology, Mathematics, and Computer. Calculate the\n",
    "percentage and grade according to the following:\n",
    "Percentage >= 90% : Grade A\n",
    "Percentage >= 80% : Grade B\n",
    "Percentage >= 70% : Grade C\n",
    "Percentage >= 60% : Grade D\n",
    "Percentage >= 40% : Grade E\n",
    "Percentage < 40% : Grade F"
   ]
  },
  {
   "cell_type": "code",
   "execution_count": 41,
   "metadata": {},
   "outputs": [
    {
     "name": "stdout",
     "output_type": "stream",
     "text": [
      "88.6\n",
      "Grade B\n"
     ]
    }
   ],
   "source": [
    "def cal_grade():\n",
    "    Physics = int(input(\"Enter Physics score: \"))\n",
    "    Chemistry = int(input(\"Enter Chemistry score: \"))\n",
    "    Biology = int(input(\"Enter Bilogy score: \"))\n",
    "    Mathematics = int(input(\"Enter Mathematics score: \"))\n",
    "    Computer = int(input(\"Enter Computer score: \"))\n",
    "\n",
    "    percentage_cal = ((Physics+Chemistry+Biology+Mathematics+Computer)/500) * 100\n",
    "    print(percentage_cal)\n",
    "    if percentage_cal >= 90:\n",
    "        print(\"Grade A\")\n",
    "    elif percentage_cal >= 80:\n",
    "        print(\"Grade B\")\n",
    "    elif percentage_cal >= 70:\n",
    "        print(\"Grade C\")\n",
    "    elif percentage_cal >= 60:\n",
    "        print(\"Grade D\")\n",
    "    elif percentage_cal >= 40:\n",
    "        print(\"Grade E\")\n",
    "    else:\n",
    "        print(\"Fail\")\n",
    "\n",
    "cal_grade()\n",
    "\n"
   ]
  },
  {
   "cell_type": "code",
   "execution_count": 11,
   "metadata": {},
   "outputs": [
    {
     "name": "stdout",
     "output_type": "stream",
     "text": [
      "E\n"
     ]
    }
   ],
   "source": [
    "def grade_func():\n",
    "    Subjects = {\n",
    "        \"Physics\" : int(input(\"Enter Physics score: \")),\n",
    "        \"Chemistry\" : int(input(\"Enter Chemistry score: \")),\n",
    "        \"Biology\" : int(input(\"Enter Bilogy score: \")),\n",
    "        \"Mathematics\" : int(input(\"Enter Mathematics score: \")),\n",
    "        \"Computer\" : int(input(\"Enter Computer score: \")),\n",
    "    }\n",
    "\n",
    "    #Cal percentage\n",
    "    per_cal = (sum(Subjects.values())/ (len(Subjects) *100)) * 100\n",
    "    # print(per_cal)\n",
    "\n",
    "    #grdae criteria\n",
    "    Grades = {\n",
    "        90:\"A\" ,\n",
    "        80:\"B\",\n",
    "        70:\"C\",\n",
    "        60:\"D\",\n",
    "        50:\"E\",\n",
    "    }\n",
    "\n",
    "    #cal grade\n",
    "    grade = next((y for z, y in Grades.items() if per_cal >= z), \"Fail\")\n",
    "    print(grade)\n",
    "    \n",
    "\n",
    "grade_func()"
   ]
  },
  {
   "cell_type": "markdown",
   "metadata": {},
   "source": [
    "\n",
    "4. Write a Python program to find the sum of all odd numbers\n",
    "between two given numbers.\n",
    "Start = 1, stop = 10\n",
    "Sum of odd numbers: 25\n",
    "training.consultadd.com\n",
    "LEVEL - I\n"
   ]
  },
  {
   "cell_type": "code",
   "execution_count": 23,
   "metadata": {},
   "outputs": [
    {
     "data": {
      "text/plain": [
       "16"
      ]
     },
     "execution_count": 23,
     "metadata": {},
     "output_type": "execute_result"
    }
   ],
   "source": [
    "def odd_sum():\n",
    "    x = range(int(input(\"enter a number\")),int(input(\"enter a number\")))\n",
    "    lst = []\n",
    "    for y in x:\n",
    "        if y %2 != 0:\n",
    "            lst.append(y)\n",
    "    odd_sum = sum(lst)\n",
    "    return odd_sum\n",
    "\n",
    "odd_sum()\n",
    "\n"
   ]
  },
  {
   "cell_type": "code",
   "execution_count": 32,
   "metadata": {},
   "outputs": [
    {
     "data": {
      "text/plain": [
       "16"
      ]
     },
     "execution_count": 32,
     "metadata": {},
     "output_type": "execute_result"
    }
   ],
   "source": [
    "def odd_sum1():\n",
    "    return sum(x for x in range(int(input(\"enter a number\")),int(input(\"enter a number\"))) if x %2 != 0)\n",
    "\n",
    "odd_sum1()\n",
    "        "
   ]
  },
  {
   "cell_type": "markdown",
   "metadata": {},
   "source": [
    "5. Write a Python program to find the factorial of a number using a\n",
    "for loop."
   ]
  },
  {
   "cell_type": "code",
   "execution_count": 34,
   "metadata": {},
   "outputs": [
    {
     "data": {
      "text/plain": [
       "120"
      ]
     },
     "execution_count": 34,
     "metadata": {},
     "output_type": "execute_result"
    }
   ],
   "source": [
    "def factorial(n):\n",
    "    result = 1\n",
    "    for x in range(1,n+1):\n",
    "        result *= x\n",
    "    return result\n",
    "\n",
    "factorial(5)"
   ]
  },
  {
   "cell_type": "markdown",
   "metadata": {},
   "source": [
    "6. Write a Python program to check if a given number is a perfect\n",
    "number.\n",
    "A Perfect number is a positive integer that is equal to the sum of\n",
    "its proper divisors. For instance, 6 has divisors 1, 2, and 3, and 1 + 2 +\n",
    "3 = 6, so 6 is a perfect number.\n",
    "Input: 5\n",
    "Output: No"
   ]
  },
  {
   "cell_type": "code",
   "execution_count": 54,
   "metadata": {},
   "outputs": [
    {
     "ename": "TypeError",
     "evalue": "'tuple' object is not callable",
     "output_type": "error",
     "traceback": [
      "\u001b[0;31m---------------------------------------------------------------------------\u001b[0m",
      "\u001b[0;31mTypeError\u001b[0m                                 Traceback (most recent call last)",
      "Cell \u001b[0;32mIn[54], line 15\u001b[0m\n\u001b[1;32m     11\u001b[0m     my_lst\u001b[38;5;241m.\u001b[39mappend(x)\n\u001b[1;32m     12\u001b[0m     \u001b[38;5;66;03m# if x + y == n:\u001b[39;00m\n\u001b[1;32m     13\u001b[0m     \u001b[38;5;66;03m#     print(\"perect number\")\u001b[39;00m\n\u001b[0;32m---> 15\u001b[0m my_set\u001b[38;5;241m=\u001b[39m\u001b[38;5;28;43mset\u001b[39;49m\u001b[43m(\u001b[49m\u001b[43mmy_lst\u001b[49m\u001b[43m)\u001b[49m\n\u001b[1;32m     16\u001b[0m \u001b[38;5;28mprint\u001b[39m(my_set)\n\u001b[1;32m     18\u001b[0m \u001b[38;5;66;03m#get perfectnumber        \u001b[39;00m\n",
      "\u001b[0;31mTypeError\u001b[0m: 'tuple' object is not callable"
     ]
    }
   ],
   "source": [
    "n = 6\n",
    "my_lst = []\n",
    "\n",
    "#get divisors\n",
    "for x in range(1,n+1):\n",
    "    # print(f\"x is {x}\")\n",
    "    for y in range(1, n+1):\n",
    "        # print(f\"y is {y}\")\n",
    "        if x * y == n:\n",
    "            my_lst.append(y)\n",
    "    my_lst.append(x)\n",
    "    # if x + y == n:\n",
    "    #     print(\"perect number\")\n",
    "\n",
    "my_set=set(my_lst)\n",
    "print(my_set)\n",
    "\n",
    "#get perfectnumber        \n"
   ]
  },
  {
   "cell_type": "code",
   "execution_count": 62,
   "metadata": {},
   "outputs": [
    {
     "name": "stdout",
     "output_type": "stream",
     "text": [
      "total is 1\n",
      "total is 3\n",
      "total is 6\n",
      "total is 12\n"
     ]
    }
   ],
   "source": [
    "n = 6\n",
    "tot = 0\n",
    "for i in range(1, n+1):\n",
    "    if n % i == 0:\n",
    "        # print(f\"i is {i}\")\n",
    "        tot = tot + i\n",
    "        print(f\"total is {tot}\")\n",
    "\n",
    "    # if tot == n:\n",
    "        # print(\"Yes\")\n",
    "    # else:\n",
    "    #     print(\"NO\")"
   ]
  },
  {
   "cell_type": "markdown",
   "metadata": {},
   "source": [
    "7. Write a Python program to check if a string is an anagram of\n",
    "another string.\n",
    "string1 = \"listen\"\n",
    ", string2 = \"silent\"\n",
    "Output: True"
   ]
  },
  {
   "cell_type": "code",
   "execution_count": null,
   "metadata": {},
   "outputs": [],
   "source": [
    "word = \"listen\"\n",
    "word1 = \"silent\"\n",
    "if sorted(word) == sorted(word1):\n",
    "    print(\"Anagram\")"
   ]
  },
  {
   "cell_type": "markdown",
   "metadata": {},
   "source": [
    "\n",
    "8. Write a Python program to calculate the LCM (Least Common\n",
    "Multiple) of two numbers.\n",
    "number1 = 12, number2 = 18\n",
    "LCM of 12 and 18 are: 36"
   ]
  },
  {
   "cell_type": "code",
   "execution_count": 67,
   "metadata": {},
   "outputs": [
    {
     "name": "stdout",
     "output_type": "stream",
     "text": [
      "36\n"
     ]
    }
   ],
   "source": [
    "import math\n",
    "num1 = 12\n",
    "num2 = 18\n",
    "num3 = abs(num1 * num2) // math.gcd(num1, num2)\n",
    "print(num3)"
   ]
  },
  {
   "cell_type": "markdown",
   "metadata": {},
   "source": [
    "9. Write a Python program to count the frequency of each element\n",
    "in a list.\n",
    "Input_list = [1, 2, 3, 2, 4, 1, 2, 4, 5]\n",
    "Frequency count: {1: 2, 2: 3, 3: 1, 4: 2, 5: 1}\n",
    "training.consultadd.com\n",
    "LEVEL - I"
   ]
  },
  {
   "cell_type": "code",
   "execution_count": 71,
   "metadata": {},
   "outputs": [
    {
     "name": "stdout",
     "output_type": "stream",
     "text": [
      "Counter({2: 3, 1: 2, 4: 2, 3: 1, 5: 1})\n"
     ]
    }
   ],
   "source": [
    "import collections\n",
    "Input_list = [1, 2, 3, 2, 4, 1, 2, 4, 5]\n",
    "\n",
    "print(collections.Counter(Input_list))"
   ]
  },
  {
   "cell_type": "markdown",
   "metadata": {},
   "source": [
    "10. Write a Python program to reverse the order of words in a given\n",
    "sentence.\n",
    "programming.\n",
    "”\n",
    "World! Hello,\n",
    "”\n",
    "Input_sentence = “Hello, World! Welcome to Python\n",
    "Output after reverse = “programming. Python to Welcome"
   ]
  },
  {
   "cell_type": "code",
   "execution_count": 76,
   "metadata": {},
   "outputs": [
    {
     "name": "stdout",
     "output_type": "stream",
     "text": [
      "Output after reverse: programming. Python to Welcome World! Hello,\n"
     ]
    }
   ],
   "source": [
    "def reverse_sentence(sentence):\n",
    "    return \" \".join(sentence.split()[::-1])\n",
    "\n",
    "word1 = \"Hello, World! Welcome to Python programming.\"\n",
    "word2 = reverse_sentence(word1)\n",
    "print(\"Output after reverse:\", word2)"
   ]
  },
  {
   "cell_type": "markdown",
   "metadata": {},
   "source": [
    "11. Write a Python program to calculate the sum of digits of a given\n",
    "number until the sum becomes a single-digit number.\n",
    "Sample Input: num = 987\n",
    "Sample Output: Sum_of_digits = 24,\n",
    "Again compute the sum of digits so that it can be reduced to\n",
    "on single digit.\n",
    "Final Output: 6"
   ]
  },
  {
   "cell_type": "code",
   "execution_count": 77,
   "metadata": {},
   "outputs": [
    {
     "name": "stdout",
     "output_type": "stream",
     "text": [
      "Final Output: 6\n"
     ]
    }
   ],
   "source": [
    "def sum_of_digits(num):\n",
    "    while num >= 10: \n",
    "        num = sum(int(digit) for digit in str(num))\n",
    "    return num\n",
    "\n",
    "\n",
    "num = 987\n",
    "print(\"Final Output:\", sum_of_digits(num))"
   ]
  },
  {
   "cell_type": "markdown",
   "metadata": {},
   "source": [
    "12. Write a Python program to reverse a number using a while\n",
    "loop.\n",
    "Sample Input: num = 12345\n",
    "Sample Output: revnum = 54321"
   ]
  },
  {
   "cell_type": "code",
   "execution_count": 79,
   "metadata": {},
   "outputs": [
    {
     "name": "stdout",
     "output_type": "stream",
     "text": [
      "Reversed Number: 54321\n"
     ]
    }
   ],
   "source": [
    "def reverse_number(num):\n",
    "    revnum = 0\n",
    "    while num > 0:\n",
    "        revnum = (revnum * 10) + (num % 10)  \n",
    "        num //= 10  \n",
    "    return revnum\n",
    "\n",
    "\n",
    "num = 12345\n",
    "print(\"Reversed Number:\", reverse_number(num))"
   ]
  },
  {
   "cell_type": "code",
   "execution_count": 87,
   "metadata": {},
   "outputs": [
    {
     "name": "stdout",
     "output_type": "stream",
     "text": [
      "['6', '5', '4', '3']\n"
     ]
    }
   ],
   "source": [
    "num1=6543\n",
    "word1 = str(num1)\n",
    "list1=[]\n",
    "for i in word1:\n",
    "    list1.append(i)\n",
    "word2=str(list1)\n",
    "# num2=int(word2)\n",
    "print(word2)"
   ]
  },
  {
   "cell_type": "code",
   "execution_count": null,
   "metadata": {},
   "outputs": [],
   "source": []
  }
 ],
 "metadata": {
  "interpreter": {
   "hash": "31f2aee4e71d21fbe5cf8b01ff0e069b9275f58929596ceb00d14d90e3e16cd6"
  },
  "kernelspec": {
   "display_name": "Python 3.9.6 64-bit",
   "language": "python",
   "name": "python3"
  },
  "language_info": {
   "codemirror_mode": {
    "name": "ipython",
    "version": 3
   },
   "file_extension": ".py",
   "mimetype": "text/x-python",
   "name": "python",
   "nbconvert_exporter": "python",
   "pygments_lexer": "ipython3",
   "version": "3.9.6"
  },
  "orig_nbformat": 4
 },
 "nbformat": 4,
 "nbformat_minor": 2
}
